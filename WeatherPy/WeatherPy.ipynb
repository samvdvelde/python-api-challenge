{
 "cells": [
  {
   "cell_type": "markdown",
   "metadata": {},
   "source": [
    "# WeatherPy\n",
    "----\n",
    "\n",
    "#### Note\n",
    "* Instructions have been included for each segment. You do not have to follow them exactly, but they are included to help you think through the steps."
   ]
  },
  {
   "cell_type": "code",
   "execution_count": 173,
   "metadata": {
    "scrolled": true
   },
   "outputs": [],
   "source": [
    "# Dependencies and Setup\n",
    "import matplotlib.pyplot as plt\n",
    "import pandas as pd\n",
    "import numpy as np\n",
    "import requests\n",
    "import time\n",
    "from scipy.stats import linregress\n",
    "from pprint import pprint\n",
    "import scipy.stats as st\n",
    "\n",
    "# Import API key\n",
    "#from api_keys import weather_api_key\n",
    "\n",
    "weather_api_key = \"aef8c2d484b89700bd4c96e8b2ee75c8\"\n",
    "\n",
    "# Incorporated citipy to determine city based on latitude and longitude\n",
    "from citipy import citipy\n",
    "\n",
    "# Output File (CSV)\n",
    "output_data_file = \"output_data/cities.csv\"\n",
    "\n",
    "# Range of latitudes and longitudes\n",
    "lat_range = (-90, 90)\n",
    "lng_range = (-180, 180)"
   ]
  },
  {
   "cell_type": "markdown",
   "metadata": {},
   "source": [
    "## Generate Cities List"
   ]
  },
  {
   "cell_type": "code",
   "execution_count": 174,
   "metadata": {},
   "outputs": [
    {
     "data": {
      "text/plain": [
       "614"
      ]
     },
     "execution_count": 174,
     "metadata": {},
     "output_type": "execute_result"
    }
   ],
   "source": [
    "# List for holding lat_lngs and cities\n",
    "lat_lngs = []\n",
    "cities = []\n",
    "\n",
    "# Create a set of random lat and lng combinations\n",
    "lats = np.random.uniform(lat_range[0], lat_range[1], size=1500)\n",
    "lngs = np.random.uniform(lng_range[0], lng_range[1], size=1500)\n",
    "lat_lngs = zip(lats, lngs)\n",
    "\n",
    "# Identify nearest city for each lat, lng combination\n",
    "for lat_lng in lat_lngs:\n",
    "    city = citipy.nearest_city(lat_lng[0], lat_lng[1]).city_name\n",
    "    \n",
    "    # If the city is unique, then add it to a our cities list\n",
    "    if city not in cities:\n",
    "        cities.append(city)\n",
    "\n",
    "# Print the city count to confirm sufficient count\n",
    "len(cities)"
   ]
  },
  {
   "cell_type": "markdown",
   "metadata": {},
   "source": [
    "### Perform API Calls\n",
    "* Perform a weather check on each city using a series of successive API calls.\n",
    "* Include a print log of each city as it'sbeing processed (with the city number and city name).\n"
   ]
  },
  {
   "cell_type": "code",
   "execution_count": 175,
   "metadata": {
    "scrolled": true
   },
   "outputs": [
    {
     "name": "stdout",
     "output_type": "stream",
     "text": [
      "izazi found, grabbing data.\n",
      "mujiayingzi found, grabbing data.\n",
      "qaanaaq found, grabbing data.\n",
      "kaputa found, grabbing data.\n",
      "inderborskiy not found.\n",
      "vaini found, grabbing data.\n",
      "lar found, grabbing data.\n",
      "verkhnevilyuysk found, grabbing data.\n",
      "lasa found, grabbing data.\n",
      "zamosc found, grabbing data.\n",
      "kodiak found, grabbing data.\n",
      "kununurra found, grabbing data.\n",
      "tsihombe not found.\n",
      "rikitea found, grabbing data.\n",
      "balykshi found, grabbing data.\n",
      "teluknaga found, grabbing data.\n",
      "save found, grabbing data.\n",
      "baneh found, grabbing data.\n",
      "bukama found, grabbing data.\n",
      "provideniya found, grabbing data.\n",
      "sawtell found, grabbing data.\n",
      "mys shmidta not found.\n",
      "garissa found, grabbing data.\n",
      "kashi found, grabbing data.\n",
      "bambous virieux found, grabbing data.\n",
      "kavieng found, grabbing data.\n",
      "sentyabrskiy not found.\n",
      "ushuaia found, grabbing data.\n",
      "airai found, grabbing data.\n",
      "samusu not found.\n",
      "tessalit found, grabbing data.\n",
      "hobart found, grabbing data.\n",
      "new norfolk found, grabbing data.\n",
      "mar del plata found, grabbing data.\n",
      "saint-pierre found, grabbing data.\n",
      "marsh harbour found, grabbing data.\n",
      "port lincoln found, grabbing data.\n",
      "monte patria found, grabbing data.\n",
      "port alfred found, grabbing data.\n",
      "hithadhoo found, grabbing data.\n",
      "bluff found, grabbing data.\n",
      "vostok found, grabbing data.\n",
      "gravdal found, grabbing data.\n",
      "uige found, grabbing data.\n",
      "lagoa found, grabbing data.\n",
      "swedru found, grabbing data.\n",
      "torbay found, grabbing data.\n",
      "taraza found, grabbing data.\n",
      "ardakan found, grabbing data.\n",
      "husavik found, grabbing data.\n",
      "druzhba found, grabbing data.\n",
      "khatanga found, grabbing data.\n",
      "tevaitoa found, grabbing data.\n",
      "aklavik found, grabbing data.\n",
      "lata found, grabbing data.\n",
      "bredasdorp found, grabbing data.\n",
      "kaitangata found, grabbing data.\n",
      "pondicherry found, grabbing data.\n",
      "jamestown found, grabbing data.\n",
      "mataura found, grabbing data.\n",
      "carnarvon found, grabbing data.\n",
      "bethel found, grabbing data.\n",
      "busselton found, grabbing data.\n",
      "severo-kurilsk found, grabbing data.\n",
      "hermanus found, grabbing data.\n",
      "upernavik found, grabbing data.\n",
      "axim found, grabbing data.\n",
      "necochea found, grabbing data.\n",
      "longyearbyen found, grabbing data.\n",
      "yumen found, grabbing data.\n",
      "andros town found, grabbing data.\n",
      "punta arenas found, grabbing data.\n",
      "castro found, grabbing data.\n",
      "taolanaro not found.\n",
      "constitucion found, grabbing data.\n",
      "beloha found, grabbing data.\n",
      "santa cruz found, grabbing data.\n",
      "avarua found, grabbing data.\n",
      "smithers found, grabbing data.\n",
      "ilulissat found, grabbing data.\n",
      "carire found, grabbing data.\n",
      "tasiilaq found, grabbing data.\n",
      "cape town found, grabbing data.\n",
      "east london found, grabbing data.\n",
      "saint-francois found, grabbing data.\n",
      "marzuq found, grabbing data.\n",
      "hilo found, grabbing data.\n",
      "bur gabo not found.\n",
      "vila franca do campo found, grabbing data.\n",
      "ibra found, grabbing data.\n",
      "kapaa found, grabbing data.\n",
      "troy found, grabbing data.\n",
      "sitka found, grabbing data.\n",
      "belushya guba not found.\n",
      "ahipara found, grabbing data.\n",
      "lebowakgomo found, grabbing data.\n",
      "burica not found.\n",
      "puerto ayora found, grabbing data.\n",
      "illoqqortoormiut not found.\n",
      "port blair found, grabbing data.\n",
      "barrow found, grabbing data.\n",
      "port elizabeth found, grabbing data.\n",
      "hanyang found, grabbing data.\n",
      "three hills found, grabbing data.\n",
      "arraial do cabo found, grabbing data.\n",
      "lanzhou found, grabbing data.\n",
      "geraldton found, grabbing data.\n",
      "denpasar found, grabbing data.\n",
      "huarmey found, grabbing data.\n",
      "hasaki found, grabbing data.\n",
      "mackay found, grabbing data.\n",
      "yellowknife found, grabbing data.\n",
      "port keats found, grabbing data.\n",
      "chara found, grabbing data.\n",
      "hihifo not found.\n",
      "igarka found, grabbing data.\n",
      "arvada found, grabbing data.\n",
      "valle de allende found, grabbing data.\n",
      "inhambane found, grabbing data.\n",
      "saskylakh found, grabbing data.\n",
      "kantang found, grabbing data.\n",
      "nytva found, grabbing data.\n",
      "puerto escondido found, grabbing data.\n",
      "makakilo city found, grabbing data.\n",
      "half moon bay found, grabbing data.\n",
      "evensk found, grabbing data.\n",
      "ketchikan found, grabbing data.\n",
      "aguimes found, grabbing data.\n",
      "luderitz found, grabbing data.\n",
      "mlowo found, grabbing data.\n",
      "baruun-urt found, grabbing data.\n",
      "nanortalik found, grabbing data.\n",
      "chernyshevskiy found, grabbing data.\n",
      "pevek found, grabbing data.\n",
      "srednekolymsk found, grabbing data.\n",
      "trairi found, grabbing data.\n",
      "dossor found, grabbing data.\n",
      "ranfurly found, grabbing data.\n",
      "vila velha found, grabbing data.\n",
      "saint-philippe found, grabbing data.\n",
      "norman wells found, grabbing data.\n",
      "anchorage found, grabbing data.\n",
      "nago found, grabbing data.\n",
      "saldanha found, grabbing data.\n",
      "butaritari found, grabbing data.\n",
      "aquiraz found, grabbing data.\n",
      "douentza found, grabbing data.\n",
      "tiksi found, grabbing data.\n",
      "skjervoy found, grabbing data.\n",
      "ancud found, grabbing data.\n",
      "coihaique found, grabbing data.\n",
      "kologriv found, grabbing data.\n",
      "levanger found, grabbing data.\n",
      "brokopondo found, grabbing data.\n",
      "albany found, grabbing data.\n",
      "nikolskoye found, grabbing data.\n",
      "barinas found, grabbing data.\n",
      "batagay-alyta found, grabbing data.\n",
      "roald found, grabbing data.\n",
      "sorland found, grabbing data.\n",
      "nemuro found, grabbing data.\n",
      "chak azam sahu found, grabbing data.\n",
      "lithakia found, grabbing data.\n",
      "fukue found, grabbing data.\n",
      "victoria found, grabbing data.\n",
      "cayenne found, grabbing data.\n",
      "marondera found, grabbing data.\n",
      "quatre cocos found, grabbing data.\n",
      "ribeira grande found, grabbing data.\n",
      "vereeniging found, grabbing data.\n",
      "lagos found, grabbing data.\n",
      "dali found, grabbing data.\n",
      "saint-louis found, grabbing data.\n",
      "viedma found, grabbing data.\n",
      "vao found, grabbing data.\n",
      "kudahuvadhoo found, grabbing data.\n",
      "gualaco found, grabbing data.\n",
      "horodyshche found, grabbing data.\n",
      "grand river south east not found.\n",
      "krasnyy chikoy found, grabbing data.\n",
      "galle found, grabbing data.\n",
      "bonavista found, grabbing data.\n",
      "katsuura found, grabbing data.\n",
      "prince rupert found, grabbing data.\n",
      "port macquarie found, grabbing data.\n",
      "weiz found, grabbing data.\n",
      "christchurch found, grabbing data.\n",
      "adre found, grabbing data.\n",
      "saint george found, grabbing data.\n",
      "tocache found, grabbing data.\n",
      "ndele found, grabbing data.\n",
      "natchez found, grabbing data.\n",
      "cairns found, grabbing data.\n",
      "tuatapere found, grabbing data.\n",
      "barentsburg not found.\n",
      "cowra found, grabbing data.\n",
      "iqaluit found, grabbing data.\n",
      "los llanos de aridane found, grabbing data.\n",
      "kysyl-syr found, grabbing data.\n",
      "touros found, grabbing data.\n",
      "nome found, grabbing data.\n",
      "otradnoye found, grabbing data.\n",
      "sorvag not found.\n",
      "codrington found, grabbing data.\n",
      "liverpool found, grabbing data.\n",
      "macusani found, grabbing data.\n",
      "aldan found, grabbing data.\n",
      "pangnirtung found, grabbing data.\n",
      "nizhneyansk not found.\n",
      "athens found, grabbing data.\n",
      "acajutla found, grabbing data.\n",
      "meadow lake found, grabbing data.\n",
      "jujuy not found.\n",
      "beberibe found, grabbing data.\n",
      "kruisfontein found, grabbing data.\n",
      "lincoln found, grabbing data.\n",
      "varena found, grabbing data.\n",
      "nichinan found, grabbing data.\n",
      "amderma not found.\n",
      "kahului found, grabbing data.\n",
      "badarpur found, grabbing data.\n",
      "bubaque found, grabbing data.\n",
      "lorengau found, grabbing data.\n",
      "badvel found, grabbing data.\n",
      "tarko-sale found, grabbing data.\n",
      "maturin found, grabbing data.\n",
      "saleaula not found.\n",
      "palabuhanratu not found.\n",
      "usogorsk found, grabbing data.\n",
      "lebu found, grabbing data.\n",
      "kloulklubed found, grabbing data.\n",
      "caibarien found, grabbing data.\n",
      "alofi found, grabbing data.\n",
      "dingle found, grabbing data.\n",
      "linhares found, grabbing data.\n",
      "sao filipe found, grabbing data.\n",
      "vardo found, grabbing data.\n",
      "matara found, grabbing data.\n",
      "san cristobal found, grabbing data.\n",
      "nhulunbuy found, grabbing data.\n",
      "hudson bay found, grabbing data.\n",
      "dhidhdhoo found, grabbing data.\n",
      "avera found, grabbing data.\n",
      "viytivka found, grabbing data.\n",
      "moose factory found, grabbing data.\n",
      "narsaq found, grabbing data.\n",
      "de-kastri found, grabbing data.\n",
      "saint-augustin found, grabbing data.\n",
      "chitral found, grabbing data.\n",
      "barbate found, grabbing data.\n",
      "acapulco found, grabbing data.\n",
      "poum found, grabbing data.\n",
      "caravelas found, grabbing data.\n",
      "rio gallegos found, grabbing data.\n",
      "goma found, grabbing data.\n",
      "shorkot found, grabbing data.\n",
      "luwuk found, grabbing data.\n",
      "aras found, grabbing data.\n",
      "moindou found, grabbing data.\n",
      "omsukchan found, grabbing data.\n",
      "atuona found, grabbing data.\n",
      "warri found, grabbing data.\n",
      "terney found, grabbing data.\n",
      "mahebourg found, grabbing data.\n",
      "cabo san lucas found, grabbing data.\n",
      "sao lourenco da serra found, grabbing data.\n",
      "shu found, grabbing data.\n",
      "kalmunai found, grabbing data.\n"
     ]
    },
    {
     "name": "stdout",
     "output_type": "stream",
     "text": [
      "campbell found, grabbing data.\n",
      "meulaboh found, grabbing data.\n",
      "massakory found, grabbing data.\n",
      "polikarpion not found.\n",
      "kolondieba found, grabbing data.\n",
      "jalu found, grabbing data.\n",
      "bajo baudo not found.\n",
      "anloga found, grabbing data.\n",
      "cherskiy found, grabbing data.\n",
      "ugoofaaru found, grabbing data.\n",
      "grindavik found, grabbing data.\n",
      "yozgat found, grabbing data.\n",
      "taoudenni found, grabbing data.\n",
      "savannakhet found, grabbing data.\n",
      "cidreira found, grabbing data.\n",
      "manokwari found, grabbing data.\n",
      "chokurdakh found, grabbing data.\n",
      "port augusta found, grabbing data.\n",
      "mahadday weyne not found.\n",
      "kieta found, grabbing data.\n",
      "sambava found, grabbing data.\n",
      "benguela found, grabbing data.\n",
      "nova venecia found, grabbing data.\n",
      "thompson found, grabbing data.\n",
      "ajaccio found, grabbing data.\n",
      "lindi found, grabbing data.\n",
      "palana found, grabbing data.\n",
      "dongying found, grabbing data.\n",
      "liberal found, grabbing data.\n",
      "luau found, grabbing data.\n",
      "portland found, grabbing data.\n",
      "hofn found, grabbing data.\n",
      "oksfjord found, grabbing data.\n",
      "katsiveli not found.\n",
      "tezu found, grabbing data.\n",
      "kuri found, grabbing data.\n",
      "barra do garcas found, grabbing data.\n",
      "teyateyaneng found, grabbing data.\n",
      "leh found, grabbing data.\n",
      "esperance found, grabbing data.\n",
      "constantine found, grabbing data.\n",
      "colesberg found, grabbing data.\n",
      "portobelo found, grabbing data.\n",
      "bengkulu found, grabbing data.\n",
      "ust-kulom found, grabbing data.\n",
      "ust-tsilma found, grabbing data.\n",
      "bilma found, grabbing data.\n",
      "ust-barguzin found, grabbing data.\n",
      "dien bien not found.\n",
      "mchinji found, grabbing data.\n",
      "ampanihy found, grabbing data.\n",
      "mount gambier found, grabbing data.\n",
      "talcahuano found, grabbing data.\n",
      "songjianghe found, grabbing data.\n",
      "oranjemund found, grabbing data.\n",
      "okahandja found, grabbing data.\n",
      "kiruna found, grabbing data.\n",
      "mahdasht found, grabbing data.\n",
      "vestmannaeyjar found, grabbing data.\n",
      "de aar found, grabbing data.\n",
      "dikson found, grabbing data.\n",
      "nara found, grabbing data.\n",
      "dombarovskiy found, grabbing data.\n",
      "novikovo found, grabbing data.\n",
      "iskateley found, grabbing data.\n",
      "zyryanka found, grabbing data.\n",
      "stalowa wola found, grabbing data.\n",
      "attawapiskat not found.\n",
      "kamenka found, grabbing data.\n",
      "gizo found, grabbing data.\n",
      "ballina found, grabbing data.\n",
      "sandviken found, grabbing data.\n",
      "barbar not found.\n",
      "puerto madero found, grabbing data.\n",
      "la uribe not found.\n",
      "hammerfest found, grabbing data.\n",
      "narrabri found, grabbing data.\n",
      "bathsheba found, grabbing data.\n",
      "talnakh found, grabbing data.\n",
      "ossora found, grabbing data.\n",
      "port-gentil found, grabbing data.\n",
      "buraydah found, grabbing data.\n",
      "nishihara found, grabbing data.\n",
      "zuwarah found, grabbing data.\n",
      "miri found, grabbing data.\n",
      "leningradskiy found, grabbing data.\n",
      "moa found, grabbing data.\n",
      "faanui found, grabbing data.\n",
      "yar-sale found, grabbing data.\n",
      "deputatskiy found, grabbing data.\n",
      "diffa found, grabbing data.\n",
      "fort nelson found, grabbing data.\n",
      "anadyr found, grabbing data.\n",
      "otautau found, grabbing data.\n",
      "thunder bay found, grabbing data.\n",
      "dunedin found, grabbing data.\n",
      "fairbanks found, grabbing data.\n",
      "udachnyy found, grabbing data.\n",
      "namatanai found, grabbing data.\n",
      "kitros found, grabbing data.\n",
      "kavaratti found, grabbing data.\n",
      "chuy found, grabbing data.\n",
      "oranjestad found, grabbing data.\n",
      "parole found, grabbing data.\n",
      "te anau found, grabbing data.\n",
      "guiratinga found, grabbing data.\n",
      "praya found, grabbing data.\n",
      "lompoc found, grabbing data.\n",
      "salinas found, grabbing data.\n",
      "antofagasta found, grabbing data.\n",
      "huacho found, grabbing data.\n",
      "nisia floresta found, grabbing data.\n",
      "general roca found, grabbing data.\n",
      "vaitupu not found.\n",
      "georgetown found, grabbing data.\n",
      "umm lajj found, grabbing data.\n",
      "ponta do sol found, grabbing data.\n",
      "chivilcoy found, grabbing data.\n",
      "opuwo found, grabbing data.\n",
      "san lawrenz found, grabbing data.\n",
      "sangar found, grabbing data.\n",
      "manaure found, grabbing data.\n",
      "belmonte found, grabbing data.\n",
      "karachi found, grabbing data.\n",
      "port hardy found, grabbing data.\n",
      "vagur found, grabbing data.\n",
      "kosino found, grabbing data.\n",
      "fort frances found, grabbing data.\n",
      "santa cruz cabralia found, grabbing data.\n",
      "villa guerrero found, grabbing data.\n",
      "okha found, grabbing data.\n",
      "hoopstad found, grabbing data.\n",
      "okhotsk found, grabbing data.\n",
      "birnin kebbi found, grabbing data.\n",
      "puerto madryn found, grabbing data.\n",
      "gannan found, grabbing data.\n",
      "fortuna found, grabbing data.\n",
      "mullaitivu not found.\n",
      "praia da vitoria found, grabbing data.\n",
      "guerrero negro found, grabbing data.\n",
      "darhan found, grabbing data.\n",
      "mtambile found, grabbing data.\n",
      "wilmington found, grabbing data.\n",
      "meyungs not found.\n",
      "san patricio found, grabbing data.\n",
      "ushumun found, grabbing data.\n",
      "boyolangu found, grabbing data.\n",
      "samarai found, grabbing data.\n",
      "garowe found, grabbing data.\n",
      "presidencia roque saenz pena found, grabbing data.\n",
      "ochakiv found, grabbing data.\n",
      "hay river found, grabbing data.\n",
      "cururupu found, grabbing data.\n",
      "chazuta found, grabbing data.\n",
      "botiza found, grabbing data.\n",
      "grand gaube found, grabbing data.\n",
      "carlisle found, grabbing data.\n",
      "haines junction found, grabbing data.\n",
      "zhanakorgan found, grabbing data.\n",
      "tumannyy not found.\n",
      "cerrito found, grabbing data.\n",
      "koshurnikovo found, grabbing data.\n",
      "gamba found, grabbing data.\n",
      "ngunguru found, grabbing data.\n",
      "wenling found, grabbing data.\n",
      "challans found, grabbing data.\n",
      "redcliffe found, grabbing data.\n",
      "zempoala found, grabbing data.\n",
      "fevralsk not found.\n",
      "souillac found, grabbing data.\n",
      "tubruq not found.\n",
      "taksimo found, grabbing data.\n",
      "tuy hoa found, grabbing data.\n",
      "dobris found, grabbing data.\n",
      "lolua not found.\n",
      "bossembele not found.\n",
      "boddam found, grabbing data.\n",
      "kutum found, grabbing data.\n",
      "takoradi found, grabbing data.\n",
      "uyemskiy found, grabbing data.\n",
      "merauke found, grabbing data.\n",
      "hambantota found, grabbing data.\n",
      "longhua found, grabbing data.\n",
      "chapais found, grabbing data.\n",
      "anupgarh found, grabbing data.\n",
      "kolokani found, grabbing data.\n",
      "barentu found, grabbing data.\n",
      "porto novo found, grabbing data.\n",
      "alice springs found, grabbing data.\n",
      "camacha found, grabbing data.\n",
      "mindelo found, grabbing data.\n",
      "bedford found, grabbing data.\n",
      "longlac not found.\n",
      "spirit river found, grabbing data.\n",
      "fort-shevchenko found, grabbing data.\n",
      "lakki marwat found, grabbing data.\n",
      "mizdah found, grabbing data.\n",
      "cockburn town found, grabbing data.\n",
      "twentynine palms found, grabbing data.\n",
      "la seyne-sur-mer found, grabbing data.\n",
      "boralday found, grabbing data.\n",
      "porto walter found, grabbing data.\n",
      "dalianwan found, grabbing data.\n",
      "lavrentiya found, grabbing data.\n",
      "bahia blanca found, grabbing data.\n",
      "arman found, grabbing data.\n",
      "palmer found, grabbing data.\n",
      "kundiawa found, grabbing data.\n",
      "raymond terrace found, grabbing data.\n",
      "klaksvik found, grabbing data.\n",
      "nyrob found, grabbing data.\n",
      "svetlyy found, grabbing data.\n",
      "nioaque found, grabbing data.\n",
      "vestmanna found, grabbing data.\n",
      "marcona not found.\n",
      "shellbrook found, grabbing data.\n",
      "calama found, grabbing data.\n",
      "kartaly found, grabbing data.\n",
      "tavda found, grabbing data.\n",
      "balikpapan found, grabbing data.\n",
      "karaul not found.\n",
      "riyadh found, grabbing data.\n",
      "barabash found, grabbing data.\n",
      "santa luzia found, grabbing data.\n",
      "sao joao da barra found, grabbing data.\n",
      "sarab found, grabbing data.\n",
      "north augusta found, grabbing data.\n",
      "jeremie found, grabbing data.\n",
      "hami found, grabbing data.\n",
      "williamsport found, grabbing data.\n",
      "pochutla found, grabbing data.\n",
      "inuvik found, grabbing data.\n",
      "russell found, grabbing data.\n",
      "toamasina found, grabbing data.\n",
      "tual found, grabbing data.\n",
      "pacific grove found, grabbing data.\n",
      "zambezi found, grabbing data.\n",
      "goderich found, grabbing data.\n",
      "polunochnoye found, grabbing data.\n",
      "hot springs found, grabbing data.\n",
      "dullewala found, grabbing data.\n",
      "hailar found, grabbing data.\n",
      "santa rosa found, grabbing data.\n",
      "san jose found, grabbing data.\n",
      "hobyo found, grabbing data.\n",
      "marawi found, grabbing data.\n",
      "roma found, grabbing data.\n",
      "bolshaya irba not found.\n",
      "boromo found, grabbing data.\n",
      "gorontalo found, grabbing data.\n",
      "talpa found, grabbing data.\n",
      "da nang found, grabbing data.\n",
      "lere found, grabbing data.\n",
      "saint-joseph found, grabbing data.\n",
      "kushima found, grabbing data.\n",
      "guaratinga found, grabbing data.\n",
      "castanos found, grabbing data.\n",
      "karratha found, grabbing data.\n",
      "khani found, grabbing data.\n",
      "harlev found, grabbing data.\n",
      "luena found, grabbing data.\n",
      "sinnamary found, grabbing data.\n",
      "the valley found, grabbing data.\n",
      "odweyne found, grabbing data.\n",
      "tuktoyaktuk found, grabbing data.\n",
      "luanshya found, grabbing data.\n",
      "henties bay found, grabbing data.\n"
     ]
    },
    {
     "name": "stdout",
     "output_type": "stream",
     "text": [
      "nizwa found, grabbing data.\n",
      "kaspiyskiy found, grabbing data.\n",
      "mahajanga found, grabbing data.\n",
      "cam ranh found, grabbing data.\n",
      "winchester found, grabbing data.\n",
      "cukai found, grabbing data.\n",
      "tucuman found, grabbing data.\n",
      "great yarmouth found, grabbing data.\n",
      "saint-junien found, grabbing data.\n",
      "salalah found, grabbing data.\n",
      "mutsamudu not found.\n",
      "virginia beach found, grabbing data.\n",
      "malanville found, grabbing data.\n",
      "hovd found, grabbing data.\n",
      "colchester found, grabbing data.\n",
      "prata found, grabbing data.\n",
      "impfondo found, grabbing data.\n",
      "bonthe found, grabbing data.\n",
      "mrirt not found.\n",
      "baboua not found.\n",
      "vilhena found, grabbing data.\n",
      "walvis bay found, grabbing data.\n",
      "abonnema found, grabbing data.\n",
      "komsomolskiy found, grabbing data.\n",
      "tomatlan found, grabbing data.\n",
      "lekoni found, grabbing data.\n",
      "valparaiso found, grabbing data.\n",
      "lamu found, grabbing data.\n",
      "maxixe found, grabbing data.\n",
      "ilebo found, grabbing data.\n",
      "alta floresta found, grabbing data.\n",
      "hilter found, grabbing data.\n",
      "manggar found, grabbing data.\n",
      "boa vista found, grabbing data.\n",
      "nouadhibou found, grabbing data.\n",
      "makubetsu found, grabbing data.\n",
      "shawville found, grabbing data.\n",
      "aksarka found, grabbing data.\n",
      "comodoro rivadavia found, grabbing data.\n",
      "alghero found, grabbing data.\n",
      "isangel found, grabbing data.\n",
      "aleppo found, grabbing data.\n",
      "moroni found, grabbing data.\n",
      "kendari found, grabbing data.\n",
      "linxia found, grabbing data.\n",
      "shestakovo found, grabbing data.\n",
      "ostrovnoy found, grabbing data.\n",
      "kirkwall found, grabbing data.\n",
      "coahuayana found, grabbing data.\n",
      "broome found, grabbing data.\n",
      "buariki not found.\n",
      "huilong found, grabbing data.\n",
      "chitaga found, grabbing data.\n",
      "pendleton found, grabbing data.\n",
      "caiaponia found, grabbing data.\n",
      "parvatipuram found, grabbing data.\n",
      "antalaha found, grabbing data.\n",
      "sijunjung found, grabbing data.\n",
      "yarada found, grabbing data.\n",
      "yanan not found.\n",
      "buala found, grabbing data.\n",
      "chapleau found, grabbing data.\n",
      "hearst found, grabbing data.\n",
      "labuhan found, grabbing data.\n",
      "piracuruca found, grabbing data.\n",
      "vanimo found, grabbing data.\n",
      "zhezkazgan found, grabbing data.\n",
      "mayo found, grabbing data.\n",
      "oleksandrivka found, grabbing data.\n",
      "edd found, grabbing data.\n",
      "aden found, grabbing data.\n",
      "dangara found, grabbing data.\n",
      "saint anthony found, grabbing data.\n",
      "clyde river found, grabbing data.\n",
      "takab found, grabbing data.\n",
      "ialibu found, grabbing data.\n",
      "luxor found, grabbing data.\n",
      "lerwick found, grabbing data.\n",
      "bintulu found, grabbing data.\n"
     ]
    }
   ],
   "source": [
    "#Lists with city data \n",
    "\n",
    "citname = []\n",
    "lat = []\n",
    "maxtemp = []\n",
    "humidity = []\n",
    "cloudiness = []\n",
    "windspeed = []\n",
    "\n",
    "#Base and query urls for current weather data on openweathermap\n",
    "\n",
    "base_url = 'http://api.openweathermap.org/data/2.5/weather?'\n",
    "units = 'imperial'\n",
    "query_url = f'{base_url}appid={weather_api_key}&units={units}&q='\n",
    "\n",
    "for city in cities:\n",
    "    response = requests.get(query_url + city).json()\n",
    "    try:\n",
    "        citname.append(response['name'])\n",
    "        lat.append(response['coord']['lat'])\n",
    "        maxtemp.append(response['main']['temp_max'])\n",
    "        humidity.append(response['main']['humidity'])\n",
    "        cloudiness.append(response['clouds']['all'])\n",
    "        windspeed.append(response['wind']['speed'])\n",
    "        print(f'{city} found, grabbing data.')\n",
    "    except KeyError:\n",
    "        print(f'{city} not found.')\n",
    "        pass\n",
    "\n",
    "\n",
    "\n"
   ]
  },
  {
   "cell_type": "code",
   "execution_count": null,
   "metadata": {},
   "outputs": [],
   "source": []
  },
  {
   "cell_type": "markdown",
   "metadata": {},
   "source": [
    "### Convert Raw Data to DataFrame\n",
    "* Export the city data into a .csv.\n",
    "* Display the DataFrame"
   ]
  },
  {
   "cell_type": "code",
   "execution_count": 203,
   "metadata": {},
   "outputs": [],
   "source": [
    "CityData = pd.DataFrame({'City': citname, 'Lat': lat, 'Max Temp': maxtemp, '% Humidity': humidity, \n",
    "                         'Cloudiness': cloudiness, 'Wind Speed': windspeed})\n",
    "CityData.index.name = 'City_ID'"
   ]
  },
  {
   "cell_type": "code",
   "execution_count": 204,
   "metadata": {},
   "outputs": [
    {
     "data": {
      "text/html": [
       "<div>\n",
       "<style scoped>\n",
       "    .dataframe tbody tr th:only-of-type {\n",
       "        vertical-align: middle;\n",
       "    }\n",
       "\n",
       "    .dataframe tbody tr th {\n",
       "        vertical-align: top;\n",
       "    }\n",
       "\n",
       "    .dataframe thead th {\n",
       "        text-align: right;\n",
       "    }\n",
       "</style>\n",
       "<table border=\"1\" class=\"dataframe\">\n",
       "  <thead>\n",
       "    <tr style=\"text-align: right;\">\n",
       "      <th></th>\n",
       "      <th>City</th>\n",
       "      <th>Lat</th>\n",
       "      <th>Max Temp</th>\n",
       "      <th>% Humidity</th>\n",
       "      <th>Cloudiness</th>\n",
       "      <th>Wind Speed</th>\n",
       "    </tr>\n",
       "    <tr>\n",
       "      <th>City_ID</th>\n",
       "      <th></th>\n",
       "      <th></th>\n",
       "      <th></th>\n",
       "      <th></th>\n",
       "      <th></th>\n",
       "      <th></th>\n",
       "    </tr>\n",
       "  </thead>\n",
       "  <tbody>\n",
       "    <tr>\n",
       "      <th>0</th>\n",
       "      <td>Izazi</td>\n",
       "      <td>-7.2000</td>\n",
       "      <td>69.80</td>\n",
       "      <td>83</td>\n",
       "      <td>75</td>\n",
       "      <td>2.66</td>\n",
       "    </tr>\n",
       "    <tr>\n",
       "      <th>1</th>\n",
       "      <td>Mujiayingzi</td>\n",
       "      <td>42.1167</td>\n",
       "      <td>30.16</td>\n",
       "      <td>29</td>\n",
       "      <td>0</td>\n",
       "      <td>1.30</td>\n",
       "    </tr>\n",
       "    <tr>\n",
       "      <th>2</th>\n",
       "      <td>Qaanaaq</td>\n",
       "      <td>77.4840</td>\n",
       "      <td>4.26</td>\n",
       "      <td>65</td>\n",
       "      <td>100</td>\n",
       "      <td>3.78</td>\n",
       "    </tr>\n",
       "    <tr>\n",
       "      <th>3</th>\n",
       "      <td>Kaputa</td>\n",
       "      <td>-8.4689</td>\n",
       "      <td>70.59</td>\n",
       "      <td>78</td>\n",
       "      <td>99</td>\n",
       "      <td>4.09</td>\n",
       "    </tr>\n",
       "    <tr>\n",
       "      <th>4</th>\n",
       "      <td>Vaini</td>\n",
       "      <td>-21.2000</td>\n",
       "      <td>68.00</td>\n",
       "      <td>100</td>\n",
       "      <td>75</td>\n",
       "      <td>4.61</td>\n",
       "    </tr>\n",
       "    <tr>\n",
       "      <th>...</th>\n",
       "      <td>...</td>\n",
       "      <td>...</td>\n",
       "      <td>...</td>\n",
       "      <td>...</td>\n",
       "      <td>...</td>\n",
       "      <td>...</td>\n",
       "    </tr>\n",
       "    <tr>\n",
       "      <th>565</th>\n",
       "      <td>Takāb</td>\n",
       "      <td>36.4009</td>\n",
       "      <td>42.91</td>\n",
       "      <td>75</td>\n",
       "      <td>0</td>\n",
       "      <td>4.07</td>\n",
       "    </tr>\n",
       "    <tr>\n",
       "      <th>566</th>\n",
       "      <td>Ialibu</td>\n",
       "      <td>-6.2821</td>\n",
       "      <td>55.09</td>\n",
       "      <td>97</td>\n",
       "      <td>100</td>\n",
       "      <td>2.35</td>\n",
       "    </tr>\n",
       "    <tr>\n",
       "      <th>567</th>\n",
       "      <td>Luxor</td>\n",
       "      <td>25.6989</td>\n",
       "      <td>78.80</td>\n",
       "      <td>31</td>\n",
       "      <td>0</td>\n",
       "      <td>5.75</td>\n",
       "    </tr>\n",
       "    <tr>\n",
       "      <th>568</th>\n",
       "      <td>Lerwick</td>\n",
       "      <td>60.1545</td>\n",
       "      <td>46.40</td>\n",
       "      <td>76</td>\n",
       "      <td>40</td>\n",
       "      <td>23.02</td>\n",
       "    </tr>\n",
       "    <tr>\n",
       "      <th>569</th>\n",
       "      <td>Bintulu</td>\n",
       "      <td>3.1667</td>\n",
       "      <td>73.40</td>\n",
       "      <td>94</td>\n",
       "      <td>20</td>\n",
       "      <td>4.61</td>\n",
       "    </tr>\n",
       "  </tbody>\n",
       "</table>\n",
       "<p>570 rows × 6 columns</p>\n",
       "</div>"
      ],
      "text/plain": [
       "                City      Lat  Max Temp  % Humidity  Cloudiness  Wind Speed\n",
       "City_ID                                                                    \n",
       "0              Izazi  -7.2000     69.80          83          75        2.66\n",
       "1        Mujiayingzi  42.1167     30.16          29           0        1.30\n",
       "2            Qaanaaq  77.4840      4.26          65         100        3.78\n",
       "3             Kaputa  -8.4689     70.59          78          99        4.09\n",
       "4              Vaini -21.2000     68.00         100          75        4.61\n",
       "...              ...      ...       ...         ...         ...         ...\n",
       "565            Takāb  36.4009     42.91          75           0        4.07\n",
       "566           Ialibu  -6.2821     55.09          97         100        2.35\n",
       "567            Luxor  25.6989     78.80          31           0        5.75\n",
       "568          Lerwick  60.1545     46.40          76          40       23.02\n",
       "569          Bintulu   3.1667     73.40          94          20        4.61\n",
       "\n",
       "[570 rows x 6 columns]"
      ]
     },
     "execution_count": 204,
     "metadata": {},
     "output_type": "execute_result"
    }
   ],
   "source": [
    "CityData"
   ]
  },
  {
   "cell_type": "code",
   "execution_count": 205,
   "metadata": {},
   "outputs": [],
   "source": [
    "CityData.to_csv(r'../output_data/CityData.csv',header=True)"
   ]
  },
  {
   "cell_type": "code",
   "execution_count": 178,
   "metadata": {},
   "outputs": [
    {
     "data": {
      "text/html": [
       "<div>\n",
       "<style scoped>\n",
       "    .dataframe tbody tr th:only-of-type {\n",
       "        vertical-align: middle;\n",
       "    }\n",
       "\n",
       "    .dataframe tbody tr th {\n",
       "        vertical-align: top;\n",
       "    }\n",
       "\n",
       "    .dataframe thead th {\n",
       "        text-align: right;\n",
       "    }\n",
       "</style>\n",
       "<table border=\"1\" class=\"dataframe\">\n",
       "  <thead>\n",
       "    <tr style=\"text-align: right;\">\n",
       "      <th></th>\n",
       "      <th>City</th>\n",
       "      <th>Lat</th>\n",
       "      <th>Max Temp</th>\n",
       "      <th>% Humidity</th>\n",
       "      <th>Cloudiness</th>\n",
       "      <th>Wind Speed</th>\n",
       "    </tr>\n",
       "  </thead>\n",
       "  <tbody>\n",
       "    <tr>\n",
       "      <th>414</th>\n",
       "      <td>Hambantota</td>\n",
       "      <td>6.1241</td>\n",
       "      <td>77.00</td>\n",
       "      <td>100</td>\n",
       "      <td>0</td>\n",
       "      <td>5.75</td>\n",
       "    </tr>\n",
       "    <tr>\n",
       "      <th>239</th>\n",
       "      <td>Moindou</td>\n",
       "      <td>-21.6924</td>\n",
       "      <td>68.00</td>\n",
       "      <td>100</td>\n",
       "      <td>0</td>\n",
       "      <td>4.61</td>\n",
       "    </tr>\n",
       "    <tr>\n",
       "      <th>257</th>\n",
       "      <td>Grindavik</td>\n",
       "      <td>63.8424</td>\n",
       "      <td>44.60</td>\n",
       "      <td>100</td>\n",
       "      <td>90</td>\n",
       "      <td>13.80</td>\n",
       "    </tr>\n",
       "    <tr>\n",
       "      <th>4</th>\n",
       "      <td>Vaini</td>\n",
       "      <td>-21.2000</td>\n",
       "      <td>68.00</td>\n",
       "      <td>100</td>\n",
       "      <td>75</td>\n",
       "      <td>4.61</td>\n",
       "    </tr>\n",
       "    <tr>\n",
       "      <th>172</th>\n",
       "      <td>Port Macquarie</td>\n",
       "      <td>-31.4333</td>\n",
       "      <td>66.20</td>\n",
       "      <td>100</td>\n",
       "      <td>75</td>\n",
       "      <td>4.61</td>\n",
       "    </tr>\n",
       "    <tr>\n",
       "      <th>213</th>\n",
       "      <td>Alofi</td>\n",
       "      <td>-19.0595</td>\n",
       "      <td>71.60</td>\n",
       "      <td>100</td>\n",
       "      <td>100</td>\n",
       "      <td>10.80</td>\n",
       "    </tr>\n",
       "    <tr>\n",
       "      <th>295</th>\n",
       "      <td>Mount Gambier</td>\n",
       "      <td>-37.8333</td>\n",
       "      <td>50.00</td>\n",
       "      <td>100</td>\n",
       "      <td>75</td>\n",
       "      <td>3.44</td>\n",
       "    </tr>\n",
       "    <tr>\n",
       "      <th>325</th>\n",
       "      <td>Marabu</td>\n",
       "      <td>4.4148</td>\n",
       "      <td>77.00</td>\n",
       "      <td>100</td>\n",
       "      <td>40</td>\n",
       "      <td>2.30</td>\n",
       "    </tr>\n",
       "    <tr>\n",
       "      <th>541</th>\n",
       "      <td>Coahuayana Viejo</td>\n",
       "      <td>18.7333</td>\n",
       "      <td>78.80</td>\n",
       "      <td>100</td>\n",
       "      <td>1</td>\n",
       "      <td>7.67</td>\n",
       "    </tr>\n",
       "    <tr>\n",
       "      <th>439</th>\n",
       "      <td>Kundiawa</td>\n",
       "      <td>-6.0167</td>\n",
       "      <td>61.36</td>\n",
       "      <td>99</td>\n",
       "      <td>100</td>\n",
       "      <td>2.48</td>\n",
       "    </tr>\n",
       "  </tbody>\n",
       "</table>\n",
       "</div>"
      ],
      "text/plain": [
       "                 City      Lat  Max Temp  % Humidity  Cloudiness  Wind Speed\n",
       "414        Hambantota   6.1241     77.00         100           0        5.75\n",
       "239           Moindou -21.6924     68.00         100           0        4.61\n",
       "257         Grindavik  63.8424     44.60         100          90       13.80\n",
       "4               Vaini -21.2000     68.00         100          75        4.61\n",
       "172    Port Macquarie -31.4333     66.20         100          75        4.61\n",
       "213             Alofi -19.0595     71.60         100         100       10.80\n",
       "295     Mount Gambier -37.8333     50.00         100          75        3.44\n",
       "325            Marabu   4.4148     77.00         100          40        2.30\n",
       "541  Coahuayana Viejo  18.7333     78.80         100           1        7.67\n",
       "439          Kundiawa  -6.0167     61.36          99         100        2.48"
      ]
     },
     "execution_count": 178,
     "metadata": {},
     "output_type": "execute_result"
    }
   ],
   "source": [
    "HumidCities_df = CityData.sort_values('% Humidity', ascending=False)\n",
    "HumidCities_df.head(10)\n",
    "\n",
    "#No cities with humidity >100%"
   ]
  },
  {
   "cell_type": "markdown",
   "metadata": {},
   "source": [
    "## Inspect the data and remove the cities where the humidity > 100%.\n",
    "----\n",
    "Skip this step if there are no cities that have humidity > 100%. "
   ]
  },
  {
   "cell_type": "code",
   "execution_count": null,
   "metadata": {},
   "outputs": [],
   "source": []
  },
  {
   "cell_type": "code",
   "execution_count": 17,
   "metadata": {},
   "outputs": [
    {
     "data": {
      "text/plain": [
       "Int64Index([], dtype='int64')"
      ]
     },
     "execution_count": 17,
     "metadata": {},
     "output_type": "execute_result"
    }
   ],
   "source": [
    "#  Get the indices of cities that have humidity over 100%.\n"
   ]
  },
  {
   "cell_type": "code",
   "execution_count": 179,
   "metadata": {},
   "outputs": [
    {
     "name": "stdout",
     "output_type": "stream",
     "text": [
      "[11, 5, 12, 17, 12, 13, 9, 16, 15, 13, 11, 19, 11, 12, 18, 19, 18, 15, 19, 10, 16, 19]\n"
     ]
    }
   ],
   "source": [
    "# Make a new DataFrame equal to the city data to drop all humidity outliers by index.\n",
    "# Passing \"inplace=False\" will make a copy of the city_data DataFrame, which we call \"clean_city_data\".\n",
    "# Calculate quartiles, upper and lower bounds for % humidity\n",
    "\n",
    "humiditySer = pd.Series(humidity)\n",
    "\n",
    "Humidityquartiles = humiditySer.quantile([.25,.5,.75])\n",
    "Humiditylowerq = Humidityquartiles[0.25]\n",
    "Humidityupperq = Humidityquartiles[.75]\n",
    "Humidityiqr = Humidityupperq-Humiditylowerq\n",
    "    \n",
    "\n",
    "HumidityLowerBound = Humiditylowerq - (1.5*Humidityiqr)\n",
    "HumidityUpperBound = Humidityupperq + (1.5*Humidityiqr)   \n",
    "\n",
    "# Determine outliers using upper and lower bounds\n",
    "\n",
    "Humidityoutliers = [x for x in humiditySer if x > HumidityUpperBound or x < HumidityLowerBound]\n",
    "print(list(Humidityoutliers))"
   ]
  },
  {
   "cell_type": "code",
   "execution_count": null,
   "metadata": {},
   "outputs": [],
   "source": [
    "\n"
   ]
  },
  {
   "cell_type": "markdown",
   "metadata": {},
   "source": [
    "## Plotting the Data\n",
    "* Use proper labeling of the plots using plot titles (including date of analysis) and axes labels.\n",
    "* Save the plotted figures as .pngs."
   ]
  },
  {
   "cell_type": "markdown",
   "metadata": {},
   "source": [
    "## Latitude vs. Temperature Plot"
   ]
  },
  {
   "cell_type": "code",
   "execution_count": 217,
   "metadata": {
    "scrolled": true
   },
   "outputs": [
    {
     "data": {
      "image/png": "[encoded data removed]",
      "text/plain": [
       "<Figure size 432x288 with 1 Axes>"
      ]
     },
     "metadata": {
      "needs_background": "light"
     },
     "output_type": "display_data"
    }
   ],
   "source": [
    "plt.scatter(lat,maxtemp, facecolors='red', edgecolors='black')\n",
    "plt.xlabel('Latitude')\n",
    "plt.ylabel('Max Temperature (F)')\n",
    "plt.title('City Latitude vs Max Temperature (3/15/2021)')\n",
    "plt.savefig('../output_data/Fig1.png')\n",
    "plt.show()\n"
   ]
  },
  {
   "cell_type": "code",
   "execution_count": null,
   "metadata": {},
   "outputs": [],
   "source": [
    "#As expected, city temperatures drop as they are farther removed from the equator. This analysis was done\n",
    "#during winter in the northern hemisphere (March), explaining in part the sharper decline in temperatures\n",
    "#at more northern (positive latitudes) cities."
   ]
  },
  {
   "cell_type": "markdown",
   "metadata": {},
   "source": [
    "## Latitude vs. Humidity Plot"
   ]
  },
  {
   "cell_type": "code",
   "execution_count": 218,
   "metadata": {},
   "outputs": [
    {
     "data": {
      "image/png": "[encoded data removed]",
      "text/plain": [
       "<Figure size 432x288 with 1 Axes>"
      ]
     },
     "metadata": {
      "needs_background": "light"
     },
     "output_type": "display_data"
    }
   ],
   "source": [
    "plt.scatter(lat,humidity, facecolors='green', edgecolors='black')\n",
    "plt.xlabel('Latitude')\n",
    "plt.ylabel('% Humidity')\n",
    "plt.title('City Latitude vs % Humidity (3/15/2021)')\n",
    "plt.savefig('../output_data/Fig2.png')\n",
    "plt.show()"
   ]
  },
  {
   "cell_type": "code",
   "execution_count": null,
   "metadata": {},
   "outputs": [],
   "source": [
    "#Air humidity versus latitude. Weak correlation, except at latitudes 20-40 deg from the equator where air humidity\n",
    "#appears lower. Possibly these cities are located around deserts in these areas."
   ]
  },
  {
   "cell_type": "markdown",
   "metadata": {},
   "source": [
    "## Latitude vs. Cloudiness Plot"
   ]
  },
  {
   "cell_type": "code",
   "execution_count": 219,
   "metadata": {},
   "outputs": [
    {
     "data": {
      "image/png": "[encoded data removed]",
      "text/plain": [
       "<Figure size 432x288 with 1 Axes>"
      ]
     },
     "metadata": {
      "needs_background": "light"
     },
     "output_type": "display_data"
    }
   ],
   "source": [
    "plt.scatter(lat,cloudiness, facecolors='gray', edgecolors='black')\n",
    "plt.xlabel('Latitude')\n",
    "plt.ylabel('% Cloudiness')\n",
    "plt.title('City Latitude vs % Cloudiness (3/15/2021)')\n",
    "plt.savefig('../output_data/Fig3.png')\n",
    "plt.show()"
   ]
  },
  {
   "cell_type": "code",
   "execution_count": null,
   "metadata": {},
   "outputs": [],
   "source": [
    "#Cloudiness in pct of the sky versus latitude. Lots of cities with no clouds at all (0%), or completely overcast\n",
    "#(100%). Between these two, many cities with around 20, 40 or 75% clouds, exposing some bias in how this is quantified."
   ]
  },
  {
   "cell_type": "markdown",
   "metadata": {},
   "source": [
    "## Latitude vs. Wind Speed Plot"
   ]
  },
  {
   "cell_type": "code",
   "execution_count": 220,
   "metadata": {},
   "outputs": [
    {
     "data": {
      "image/png": "[encoded data removed]",
      "text/plain": [
       "<Figure size 432x288 with 1 Axes>"
      ]
     },
     "metadata": {
      "needs_background": "light"
     },
     "output_type": "display_data"
    }
   ],
   "source": [
    "plt.scatter(lat,windspeed, facecolors='white', edgecolors='black')\n",
    "plt.xlabel('Latitude')\n",
    "plt.ylabel('Wind Speed (mph)')\n",
    "plt.title('City Latitude vs Wind Speed (mph) (3/15/2021)')\n",
    "plt.savefig('../output_data/Fig4.png')\n",
    "plt.show()"
   ]
  },
  {
   "cell_type": "code",
   "execution_count": null,
   "metadata": {},
   "outputs": [],
   "source": [
    "#Wind speed vs latitude. Little correlation between the two. The outliers are at higher degrees latitude."
   ]
  },
  {
   "cell_type": "markdown",
   "metadata": {},
   "source": [
    "## Linear Regression"
   ]
  },
  {
   "cell_type": "code",
   "execution_count": 184,
   "metadata": {},
   "outputs": [
    {
     "data": {
      "text/html": [
       "<div>\n",
       "<style scoped>\n",
       "    .dataframe tbody tr th:only-of-type {\n",
       "        vertical-align: middle;\n",
       "    }\n",
       "\n",
       "    .dataframe tbody tr th {\n",
       "        vertical-align: top;\n",
       "    }\n",
       "\n",
       "    .dataframe thead th {\n",
       "        text-align: right;\n",
       "    }\n",
       "</style>\n",
       "<table border=\"1\" class=\"dataframe\">\n",
       "  <thead>\n",
       "    <tr style=\"text-align: right;\">\n",
       "      <th></th>\n",
       "      <th>City</th>\n",
       "      <th>Lat</th>\n",
       "      <th>Max Temp</th>\n",
       "      <th>% Humidity</th>\n",
       "      <th>Cloudiness</th>\n",
       "      <th>Wind Speed</th>\n",
       "    </tr>\n",
       "  </thead>\n",
       "  <tbody>\n",
       "    <tr>\n",
       "      <th>1</th>\n",
       "      <td>Mujiayingzi</td>\n",
       "      <td>42.1167</td>\n",
       "      <td>30.16</td>\n",
       "      <td>29</td>\n",
       "      <td>0</td>\n",
       "      <td>1.30</td>\n",
       "    </tr>\n",
       "    <tr>\n",
       "      <th>2</th>\n",
       "      <td>Qaanaaq</td>\n",
       "      <td>77.4840</td>\n",
       "      <td>4.26</td>\n",
       "      <td>65</td>\n",
       "      <td>100</td>\n",
       "      <td>3.78</td>\n",
       "    </tr>\n",
       "    <tr>\n",
       "      <th>5</th>\n",
       "      <td>Lar</td>\n",
       "      <td>26.2039</td>\n",
       "      <td>70.79</td>\n",
       "      <td>21</td>\n",
       "      <td>0</td>\n",
       "      <td>6.51</td>\n",
       "    </tr>\n",
       "    <tr>\n",
       "      <th>6</th>\n",
       "      <td>Verkhnevilyuysk</td>\n",
       "      <td>63.4453</td>\n",
       "      <td>9.01</td>\n",
       "      <td>94</td>\n",
       "      <td>99</td>\n",
       "      <td>6.80</td>\n",
       "    </tr>\n",
       "    <tr>\n",
       "      <th>7</th>\n",
       "      <td>Laas</td>\n",
       "      <td>46.6166</td>\n",
       "      <td>50.00</td>\n",
       "      <td>64</td>\n",
       "      <td>40</td>\n",
       "      <td>6.91</td>\n",
       "    </tr>\n",
       "  </tbody>\n",
       "</table>\n",
       "</div>"
      ],
      "text/plain": [
       "              City      Lat  Max Temp  % Humidity  Cloudiness  Wind Speed\n",
       "1      Mujiayingzi  42.1167     30.16          29           0        1.30\n",
       "2          Qaanaaq  77.4840      4.26          65         100        3.78\n",
       "5              Lar  26.2039     70.79          21           0        6.51\n",
       "6  Verkhnevilyuysk  63.4453      9.01          94          99        6.80\n",
       "7             Laas  46.6166     50.00          64          40        6.91"
      ]
     },
     "execution_count": 184,
     "metadata": {},
     "output_type": "execute_result"
    }
   ],
   "source": [
    "Northernhem = CityData['Lat'] > 0\n",
    "NorCityData = CityData[Northernhem] \n",
    "NorCityData.head()"
   ]
  },
  {
   "cell_type": "code",
   "execution_count": 185,
   "metadata": {},
   "outputs": [
    {
     "data": {
      "text/html": [
       "<div>\n",
       "<style scoped>\n",
       "    .dataframe tbody tr th:only-of-type {\n",
       "        vertical-align: middle;\n",
       "    }\n",
       "\n",
       "    .dataframe tbody tr th {\n",
       "        vertical-align: top;\n",
       "    }\n",
       "\n",
       "    .dataframe thead th {\n",
       "        text-align: right;\n",
       "    }\n",
       "</style>\n",
       "<table border=\"1\" class=\"dataframe\">\n",
       "  <thead>\n",
       "    <tr style=\"text-align: right;\">\n",
       "      <th></th>\n",
       "      <th>City</th>\n",
       "      <th>Lat</th>\n",
       "      <th>Max Temp</th>\n",
       "      <th>% Humidity</th>\n",
       "      <th>Cloudiness</th>\n",
       "      <th>Wind Speed</th>\n",
       "    </tr>\n",
       "  </thead>\n",
       "  <tbody>\n",
       "    <tr>\n",
       "      <th>0</th>\n",
       "      <td>Izazi</td>\n",
       "      <td>-7.2000</td>\n",
       "      <td>69.80</td>\n",
       "      <td>83</td>\n",
       "      <td>75</td>\n",
       "      <td>2.66</td>\n",
       "    </tr>\n",
       "    <tr>\n",
       "      <th>3</th>\n",
       "      <td>Kaputa</td>\n",
       "      <td>-8.4689</td>\n",
       "      <td>70.59</td>\n",
       "      <td>78</td>\n",
       "      <td>99</td>\n",
       "      <td>4.09</td>\n",
       "    </tr>\n",
       "    <tr>\n",
       "      <th>4</th>\n",
       "      <td>Vaini</td>\n",
       "      <td>-21.2000</td>\n",
       "      <td>68.00</td>\n",
       "      <td>100</td>\n",
       "      <td>75</td>\n",
       "      <td>4.61</td>\n",
       "    </tr>\n",
       "    <tr>\n",
       "      <th>10</th>\n",
       "      <td>Kununurra</td>\n",
       "      <td>-15.7667</td>\n",
       "      <td>78.80</td>\n",
       "      <td>89</td>\n",
       "      <td>96</td>\n",
       "      <td>5.75</td>\n",
       "    </tr>\n",
       "    <tr>\n",
       "      <th>11</th>\n",
       "      <td>Rikitea</td>\n",
       "      <td>-23.1203</td>\n",
       "      <td>80.13</td>\n",
       "      <td>77</td>\n",
       "      <td>40</td>\n",
       "      <td>13.82</td>\n",
       "    </tr>\n",
       "  </tbody>\n",
       "</table>\n",
       "</div>"
      ],
      "text/plain": [
       "         City      Lat  Max Temp  % Humidity  Cloudiness  Wind Speed\n",
       "0       Izazi  -7.2000     69.80          83          75        2.66\n",
       "3      Kaputa  -8.4689     70.59          78          99        4.09\n",
       "4       Vaini -21.2000     68.00         100          75        4.61\n",
       "10  Kununurra -15.7667     78.80          89          96        5.75\n",
       "11    Rikitea -23.1203     80.13          77          40       13.82"
      ]
     },
     "execution_count": 185,
     "metadata": {},
     "output_type": "execute_result"
    }
   ],
   "source": [
    "Southernhem = CityData['Lat'] < 0\n",
    "SouCityData = CityData[Southernhem] \n",
    "SouCityData.head()"
   ]
  },
  {
   "cell_type": "markdown",
   "metadata": {},
   "source": [
    "####  Northern Hemisphere - Max Temp vs. Latitude Linear Regression"
   ]
  },
  {
   "cell_type": "code",
   "execution_count": 221,
   "metadata": {},
   "outputs": [
    {
     "data": {
      "image/png": "[encoded data removed]",
      "text/plain": [
       "<Figure size 432x288 with 1 Axes>"
      ]
     },
     "metadata": {
      "needs_background": "light"
     },
     "output_type": "display_data"
    },
    {
     "name": "stdout",
     "output_type": "stream",
     "text": [
      "The r-value is -0.89\n"
     ]
    }
   ],
   "source": [
    "NorLat = NorCityData['Lat']\n",
    "NorTemp = NorCityData['Max Temp']\n",
    "\n",
    "\n",
    "nortempcorrelation = st.pearsonr(NorLat, NorTemp)\n",
    "\n",
    "(slope, intercept, rvalue, pvalue, stderr) = st.linregress(NorLat, NorTemp)\n",
    "regress_values = NorLat * slope + intercept\n",
    "line_eq = \"y = \" + str(round(slope,2)) + \"x + \" + str(round(intercept,2))\n",
    "plt.scatter(NorLat,NorTemp, facecolors='red', edgecolors='black')\n",
    "plt.xlabel('Latitude')\n",
    "plt.ylabel('Max Temp (F)')\n",
    "plt.title('Max temperature (F) vs Latutide in the Northern Hepisphere')\n",
    "plt.plot(NorLat,regress_values,\"b-\")\n",
    "plt.annotate(line_eq,(5,-20),fontsize=15,color=\"black\")\n",
    "plt.savefig('../output_data/Fig5.png')\n",
    "plt.show()\n",
    "print(f\"The r-value is {round(nortempcorrelation[0],2)}\")\n"
   ]
  },
  {
   "cell_type": "code",
   "execution_count": null,
   "metadata": {},
   "outputs": [],
   "source": []
  },
  {
   "cell_type": "markdown",
   "metadata": {},
   "source": [
    "####  Southern Hemisphere - Max Temp vs. Latitude Linear Regression"
   ]
  },
  {
   "cell_type": "code",
   "execution_count": 222,
   "metadata": {},
   "outputs": [
    {
     "data": {
      "image/png": "[encoded data removed]",
      "text/plain": [
       "<Figure size 432x288 with 1 Axes>"
      ]
     },
     "metadata": {
      "needs_background": "light"
     },
     "output_type": "display_data"
    },
    {
     "name": "stdout",
     "output_type": "stream",
     "text": [
      "The r-value is 0.64\n"
     ]
    }
   ],
   "source": [
    "SouLat = SouCityData['Lat']\n",
    "SouTemp = SouCityData['Max Temp']\n",
    "\n",
    "\n",
    "soutempcorrelation = st.pearsonr(SouLat, SouTemp)\n",
    "\n",
    "(slope, intercept, rvalue, pvalue, stderr) = st.linregress(SouLat, SouTemp)\n",
    "regress_values = SouLat * slope + intercept\n",
    "line_eq = \"y = \" + str(round(slope,2)) + \"x + \" + str(round(intercept,2))\n",
    "plt.scatter(SouLat,SouTemp, facecolors='red', edgecolors='black')\n",
    "plt.xlabel('Latitude')\n",
    "plt.ylabel('Max Temp (F)')\n",
    "plt.title('Max temperature (F) vs Latutide in the Southern Hepisphere')\n",
    "plt.plot(SouLat,regress_values,\"b-\")\n",
    "plt.annotate(line_eq,(-30,40),fontsize=15,color=\"black\")\n",
    "plt.savefig('../output_data/Fig6.png')\n",
    "plt.show()\n",
    "print(f\"The r-value is {round(soutempcorrelation[0],2)}\")"
   ]
  },
  {
   "cell_type": "code",
   "execution_count": null,
   "metadata": {},
   "outputs": [],
   "source": [
    "#Negative correlation between latitude and temperature in both northern and southern hemispheres. R-value is positive\n",
    "#in southern hemisphere because we assigned negative values to latitudes there. Stronger correlation in the northern\n",
    "#hemisphere because we collected data in March (winter in the northern hemisphere)."
   ]
  },
  {
   "cell_type": "markdown",
   "metadata": {},
   "source": [
    "####  Northern Hemisphere - Humidity (%) vs. Latitude Linear Regression"
   ]
  },
  {
   "cell_type": "code",
   "execution_count": 223,
   "metadata": {},
   "outputs": [
    {
     "data": {
      "image/png": "[encoded data removed]",
      "text/plain": [
       "<Figure size 432x288 with 1 Axes>"
      ]
     },
     "metadata": {
      "needs_background": "light"
     },
     "output_type": "display_data"
    },
    {
     "name": "stdout",
     "output_type": "stream",
     "text": [
      "The r-value is 0.3\n"
     ]
    }
   ],
   "source": [
    "NorHum = NorCityData['% Humidity']\n",
    "\n",
    "\n",
    "norhumcorrelation = st.pearsonr(NorLat, NorHum)\n",
    "\n",
    "(slope, intercept, rvalue, pvalue, stderr) = st.linregress(NorLat, NorHum)\n",
    "regress_values = NorLat * slope + intercept\n",
    "line_eq = \"y = \" + str(round(slope,2)) + \"x + \" + str(round(intercept,2))\n",
    "plt.scatter(NorLat,NorHum, facecolors='green', edgecolors='black')\n",
    "plt.xlabel('Latitude')\n",
    "plt.ylabel('% Humidity')\n",
    "plt.title('% Humidity vs Latutide in the Northern Hepisphere')\n",
    "plt.plot(NorLat,regress_values,\"b-\")\n",
    "plt.annotate(line_eq,(45,10),fontsize=15,color=\"black\")\n",
    "plt.savefig('../output_data/Fig7.png')\n",
    "plt.show()\n",
    "print(f\"The r-value is {round(norhumcorrelation[0],2)}\")"
   ]
  },
  {
   "cell_type": "code",
   "execution_count": null,
   "metadata": {},
   "outputs": [],
   "source": []
  },
  {
   "cell_type": "markdown",
   "metadata": {},
   "source": [
    "####  Southern Hemisphere - Humidity (%) vs. Latitude Linear Regression"
   ]
  },
  {
   "cell_type": "code",
   "execution_count": 224,
   "metadata": {},
   "outputs": [
    {
     "data": {
      "image/png": "[encoded data removed]",
      "text/plain": [
       "<Figure size 432x288 with 1 Axes>"
      ]
     },
     "metadata": {
      "needs_background": "light"
     },
     "output_type": "display_data"
    },
    {
     "name": "stdout",
     "output_type": "stream",
     "text": [
      "The r-value is 0.15\n"
     ]
    }
   ],
   "source": [
    "SouHum = SouCityData['% Humidity']\n",
    "\n",
    "\n",
    "souhumcorrelation = st.pearsonr(SouLat, SouHum)\n",
    "\n",
    "(slope, intercept, rvalue, pvalue, stderr) = st.linregress(SouLat, SouHum)\n",
    "regress_values = SouLat * slope + intercept\n",
    "line_eq = \"y = \" + str(round(slope,2)) + \"x + \" + str(round(intercept,2))\n",
    "plt.scatter(SouLat,SouHum, facecolors='green', edgecolors='black')\n",
    "plt.xlabel('Latitude')\n",
    "plt.ylabel('% Humidity')\n",
    "plt.title('% Humidity vs Latutide in the Southern Hepisphere')\n",
    "plt.plot(SouLat,regress_values,\"b-\")\n",
    "plt.xlim([-65,5])\n",
    "plt.annotate(line_eq,(-60,35),fontsize=15,color=\"black\")\n",
    "plt.savefig('../output_data/Fig8.png')\n",
    "plt.show()\n",
    "print(f\"The r-value is {round(souhumcorrelation[0],2)}\")"
   ]
  },
  {
   "cell_type": "code",
   "execution_count": null,
   "metadata": {},
   "outputs": [],
   "source": [
    "#Weak correlation between humidity and latitude in both hemispheres. A somewhat stronger correlation in the northern\n",
    "#hemisphere, due to low humidity in cities 10-40 deg north of the equator. These cities are likely located around\n",
    "#deserts."
   ]
  },
  {
   "cell_type": "markdown",
   "metadata": {},
   "source": [
    "####  Northern Hemisphere - Cloudiness (%) vs. Latitude Linear Regression"
   ]
  },
  {
   "cell_type": "code",
   "execution_count": 225,
   "metadata": {},
   "outputs": [
    {
     "data": {
      "image/png": "[encoded data removed]",
      "text/plain": [
       "<Figure size 432x288 with 1 Axes>"
      ]
     },
     "metadata": {
      "needs_background": "light"
     },
     "output_type": "display_data"
    },
    {
     "name": "stdout",
     "output_type": "stream",
     "text": [
      "The r-value is 0.25\n"
     ]
    }
   ],
   "source": [
    "NorClou = NorCityData['Cloudiness']\n",
    "\n",
    "\n",
    "norcloucorrelation = st.pearsonr(NorLat, NorClou)\n",
    "\n",
    "(slope, intercept, rvalue, pvalue, stderr) = st.linregress(NorLat, NorClou)\n",
    "regress_values = NorLat * slope + intercept\n",
    "line_eq = \"y = \" + str(round(slope,2)) + \"x + \" + str(round(intercept,2))\n",
    "plt.scatter(NorLat,NorClou, facecolors='gray', edgecolors='black')\n",
    "plt.xlabel('Latitude')\n",
    "plt.ylabel('% Cloudiness')\n",
    "plt.title('% Cloudiness vs Latutide in the Northern Hepisphere')\n",
    "plt.plot(NorLat,regress_values,\"b-\")\n",
    "plt.annotate(line_eq,(45,25),fontsize=15,color=\"black\")\n",
    "plt.savefig('../output_data/Fig9.png')\n",
    "plt.show()\n",
    "print(f\"The r-value is {round(norcloucorrelation[0],2)}\")"
   ]
  },
  {
   "cell_type": "markdown",
   "metadata": {},
   "source": [
    "####  Southern Hemisphere - Cloudiness (%) vs. Latitude Linear Regression"
   ]
  },
  {
   "cell_type": "code",
   "execution_count": 226,
   "metadata": {},
   "outputs": [
    {
     "data": {
      "image/png": "[encoded data removed]",
      "text/plain": [
       "<Figure size 432x288 with 1 Axes>"
      ]
     },
     "metadata": {
      "needs_background": "light"
     },
     "output_type": "display_data"
    },
    {
     "name": "stdout",
     "output_type": "stream",
     "text": [
      "The r-value is 0.06\n"
     ]
    }
   ],
   "source": [
    "SouClou = SouCityData['Cloudiness']\n",
    "\n",
    "\n",
    "soucloucorrelation = st.pearsonr(SouLat, SouClou)\n",
    "\n",
    "(slope, intercept, rvalue, pvalue, stderr) = st.linregress(SouLat, SouClou)\n",
    "regress_values = SouLat * slope + intercept\n",
    "line_eq = \"y = \" + str(round(slope,2)) + \"x + \" + str(round(intercept,2))\n",
    "plt.scatter(SouLat,SouClou, facecolors='gray', edgecolors='black')\n",
    "plt.xlabel('Latitude')\n",
    "plt.ylabel('% Cloudiness')\n",
    "plt.title('% Cloudiness vs Latutide in the Southern Hepisphere')\n",
    "plt.plot(SouLat,regress_values,\"b-\")\n",
    "plt.xlim([-65,5])\n",
    "plt.annotate(line_eq,(-58,25),fontsize=15,color=\"black\")\n",
    "plt.savefig('../output_data/Fig10.png')\n",
    "plt.show()\n",
    "print(f\"The r-value is {round(soucloucorrelation[0],2)}\")"
   ]
  },
  {
   "cell_type": "code",
   "execution_count": null,
   "metadata": {},
   "outputs": [],
   "source": [
    "#Weak correlation between cloudiness and latitude in both hemispheres. More cloudiness around the equator with a \n",
    "#strong dip 10-40 deg north of the equator."
   ]
  },
  {
   "cell_type": "markdown",
   "metadata": {},
   "source": [
    "####  Northern Hemisphere - Wind Speed (mph) vs. Latitude Linear Regression"
   ]
  },
  {
   "cell_type": "code",
   "execution_count": 227,
   "metadata": {},
   "outputs": [
    {
     "data": {
      "image/png": "[encoded data removed]",
      "text/plain": [
       "<Figure size 432x288 with 1 Axes>"
      ]
     },
     "metadata": {
      "needs_background": "light"
     },
     "output_type": "display_data"
    },
    {
     "name": "stdout",
     "output_type": "stream",
     "text": [
      "The r-value is 0.02\n"
     ]
    }
   ],
   "source": [
    "NorWin = NorCityData['Wind Speed']\n",
    "\n",
    "\n",
    "norwincorrelation = st.pearsonr(NorLat, NorWin)\n",
    "\n",
    "(slope, intercept, rvalue, pvalue, stderr) = st.linregress(NorLat, NorWin)\n",
    "regress_values = NorLat * slope + intercept\n",
    "line_eq = \"y = \" + str(round(slope,2)) + \"x + \" + str(round(intercept,2))\n",
    "plt.scatter(NorLat,NorWin, facecolors='white', edgecolors='black')\n",
    "plt.xlabel('Latitude')\n",
    "plt.ylabel('Wind Speed (mph)')\n",
    "plt.title('Wind Speed (mph) vs Latutide in the Northern Hepisphere')\n",
    "plt.plot(NorLat,regress_values,\"b-\")\n",
    "plt.annotate(line_eq,(0,35),fontsize=15,color=\"black\")\n",
    "plt.savefig('../output_data/Fig11.png')\n",
    "plt.show()\n",
    "print(f\"The r-value is {round(norwincorrelation[0],2)}\")"
   ]
  },
  {
   "cell_type": "markdown",
   "metadata": {},
   "source": [
    "####  Southern Hemisphere - Wind Speed (mph) vs. Latitude Linear Regression"
   ]
  },
  {
   "cell_type": "code",
   "execution_count": 228,
   "metadata": {},
   "outputs": [
    {
     "data": {
      "image/png": "[encoded data removed]",
      "text/plain": [
       "<Figure size 432x288 with 1 Axes>"
      ]
     },
     "metadata": {
      "needs_background": "light"
     },
     "output_type": "display_data"
    },
    {
     "name": "stdout",
     "output_type": "stream",
     "text": [
      "The r-value is -0.4\n"
     ]
    }
   ],
   "source": [
    "SouWin = SouCityData['Wind Speed']\n",
    "\n",
    "\n",
    "souwincorrelation = st.pearsonr(SouLat, SouWin)\n",
    "\n",
    "(slope, intercept, rvalue, pvalue, stderr) = st.linregress(SouLat, SouWin)\n",
    "regress_values = SouLat * slope + intercept\n",
    "line_eq = \"y = \" + str(round(slope,2)) + \"x + \" + str(round(intercept,2))\n",
    "plt.scatter(SouLat,SouWin, facecolors='white', edgecolors='black')\n",
    "plt.xlabel('Latitude')\n",
    "plt.ylabel('Wind Speed (mph)')\n",
    "plt.title('Wind Speed (mph) vs Latutide in the Southern Hepisphere')\n",
    "plt.plot(SouLat,regress_values,\"b-\")\n",
    "plt.xlim([-65,5])\n",
    "plt.annotate(line_eq,(-30,30),fontsize=15,color=\"black\")\n",
    "plt.savefig('../output_data/Fig12.png')\n",
    "plt.show()\n",
    "print(f\"The r-value is {round(souwincorrelation[0],2)}\")"
   ]
  },
  {
   "cell_type": "code",
   "execution_count": null,
   "metadata": {},
   "outputs": [],
   "source": [
    "#No correlation between wind speed and latitude in the northern hemisphere. Stronger correlation in the southern \n",
    "#hemisphere. The analysis possibly included cities located in windy areas in the southern tips of Africa and \n",
    "#South America."
   ]
  }
 ],
 "metadata": {
  "anaconda-cloud": {},
  "kernel_info": {
   "name": "python3"
  },
  "kernelspec": {
   "display_name": "Python [conda env:PythonData] *",
   "language": "python",
   "name": "conda-env-PythonData-py"
  },
  "language_info": {
   "codemirror_mode": {
    "name": "ipython",
    "version": 3
   },
   "file_extension": ".py",
   "mimetype": "text/x-python",
   "name": "python",
   "nbconvert_exporter": "python",
   "pygments_lexer": "ipython3",
   "version": "3.6.10"
  },
  "latex_envs": {
   "LaTeX_envs_menu_present": true,
   "autoclose": false,
   "autocomplete": true,
   "bibliofile": "biblio.bib",
   "cite_by": "apalike",
   "current_citInitial": 1,
   "eqLabelWithNumbers": true,
   "eqNumInitial": 1,
   "hotkeys": {
    "equation": "Ctrl-E",
    "itemize": "Ctrl-I"
   },
   "labels_anchors": false,
   "latex_user_defs": false,
   "report_style_numbering": false,
   "user_envs_cfg": false
  },
  "nteract": {
   "version": "0.12.3"
  }
 },
 "nbformat": 4,
 "nbformat_minor": 2
}
